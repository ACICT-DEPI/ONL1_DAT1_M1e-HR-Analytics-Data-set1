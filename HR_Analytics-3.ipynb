{
 "cells": [
  {
   "cell_type": "markdown",
   "metadata": {},
   "source": [
    "<div style=\"display: flex; align-items: center; justify-content: space-between;\">\n",
    "    <div>\n",
    "        <h1 style=\"font-weight: bold; font-size: 50px;\">HR Analytics</h1>\n",
    "        <h2 style=\"font-weight: bold; font-size: 26px;\">Submitted By:</h2>\n",
    "        <p style=\"font-size: 15px;\">\n",
    "            Sarah Mohammed Mahmoud Ebied<br>\n",
    "            Bishoy Kamal Ragheb Nakhla <br>\n",
    "            Hossam Hassan Mohamed Abo-Al Ela <br>\n",
    "            Omar Salah El-dien Saad Mutawe <br>\n",
    "            Hazem Gamal Abdelnaser Mohamed <br>\n",
    "            Mohsen Salah Abd-ElKarim Shahat <br>\n",
    "\n",
    "\n",
    "        </p>\n",
    "    </div>\n",
    "    <div style=\"margin-left: 550px;\">\n",
    "        <img src=\"/Users/godzilla/Desktop/Sara/DEPI.png\" alt=\"Image\" style=\"width: 200px;\">\n",
    "    </div>\n",
    "</div>\n"
   ]
  },
  {
   "cell_type": "markdown",
   "metadata": {},
   "source": [
    "# 1- Importing Libraries"
   ]
  },
  {
   "cell_type": "code",
   "execution_count": 2,
   "metadata": {},
   "outputs": [],
   "source": [
    "import numpy as np \n",
    "import pandas as pd "
   ]
  },
  {
   "cell_type": "markdown",
   "metadata": {},
   "source": [
    "# 2- Reading Data "
   ]
  },
  {
   "cell_type": "code",
   "execution_count": 9,
   "metadata": {},
   "outputs": [],
   "source": [
    "# Reading Employee File\n",
    "employee_df = pd.read_excel('D:\\\\Sarah\\\\ماتيريال منحة رواد مصر\\\\Final project\\\\Employee.xlsx')\n",
    "\n",
    "# Reading Education Level File\n",
    "education_df = pd.read_excel('D:\\\\Sarah\\\\ماتيريال منحة رواد مصر\\\\Final project\\\\EducationLevel.xlsx', engine='openpyxl')\n",
    "\n",
    "# Reading Rating Level File\n",
    "rating_df = pd.read_excel('D:\\\\Sarah\\\\ماتيريال منحة رواد مصر\\\\Final project\\\\RatingLevel.xlsx', engine='openpyxl')\n",
    "\n",
    "# Reading Satisfied Level File\n",
    "satisfied_df = pd.read_excel('D:\\\\Sarah\\\\ماتيريال منحة رواد مصر\\\\Final project\\\\SatisfiedLevel.xlsx', engine='openpyxl')\n",
    "\n",
    "# Reading Performance Rating File\n",
    "performance_df = pd.read_excel('D:\\\\Sarah\\\\ماتيريال منحة رواد مصر\\\\Final project\\\\PerformanceRating.xlsx', engine='openpyxl')\n"
   ]
  },
  {
   "cell_type": "markdown",
   "metadata": {},
   "source": [
    "# 3- Explatory Data Analysis"
   ]
  },
  {
   "cell_type": "markdown",
   "metadata": {},
   "source": [
    "## 3.1- Employee"
   ]
  },
  {
   "cell_type": "code",
   "execution_count": 122,
   "metadata": {},
   "outputs": [
    {
     "data": {
      "text/html": [
       "<div>\n",
       "<style scoped>\n",
       "    .dataframe tbody tr th:only-of-type {\n",
       "        vertical-align: middle;\n",
       "    }\n",
       "\n",
       "    .dataframe tbody tr th {\n",
       "        vertical-align: top;\n",
       "    }\n",
       "\n",
       "    .dataframe thead th {\n",
       "        text-align: right;\n",
       "    }\n",
       "</style>\n",
       "<table border=\"1\" class=\"dataframe\">\n",
       "  <thead>\n",
       "    <tr style=\"text-align: right;\">\n",
       "      <th></th>\n",
       "      <th>EmployeeID</th>\n",
       "      <th>FirstName</th>\n",
       "      <th>LastName</th>\n",
       "      <th>Gender</th>\n",
       "      <th>Age</th>\n",
       "      <th>BusinessTravel</th>\n",
       "      <th>Department</th>\n",
       "      <th>DistanceFromHome (KM)</th>\n",
       "      <th>State</th>\n",
       "      <th>Ethnicity</th>\n",
       "      <th>...</th>\n",
       "      <th>MaritalStatus</th>\n",
       "      <th>Salary</th>\n",
       "      <th>StockOptionLevel</th>\n",
       "      <th>OverTime</th>\n",
       "      <th>HireDate</th>\n",
       "      <th>Attrition</th>\n",
       "      <th>YearsAtCompany</th>\n",
       "      <th>YearsInMostRecentRole</th>\n",
       "      <th>YearsSinceLastPromotion</th>\n",
       "      <th>YearsWithCurrManager</th>\n",
       "    </tr>\n",
       "  </thead>\n",
       "  <tbody>\n",
       "    <tr>\n",
       "      <th>0</th>\n",
       "      <td>3012-1A41</td>\n",
       "      <td>Leonelle</td>\n",
       "      <td>Simco</td>\n",
       "      <td>Female</td>\n",
       "      <td>30</td>\n",
       "      <td>Some Travel</td>\n",
       "      <td>Sales</td>\n",
       "      <td>27</td>\n",
       "      <td>IL</td>\n",
       "      <td>White</td>\n",
       "      <td>...</td>\n",
       "      <td>Divorced</td>\n",
       "      <td>102059</td>\n",
       "      <td>1</td>\n",
       "      <td>No</td>\n",
       "      <td>2012-01-03</td>\n",
       "      <td>No</td>\n",
       "      <td>10</td>\n",
       "      <td>4</td>\n",
       "      <td>9</td>\n",
       "      <td>7</td>\n",
       "    </tr>\n",
       "    <tr>\n",
       "      <th>1</th>\n",
       "      <td>CBCB-9C9D</td>\n",
       "      <td>Leonerd</td>\n",
       "      <td>Aland</td>\n",
       "      <td>Male</td>\n",
       "      <td>38</td>\n",
       "      <td>Some Travel</td>\n",
       "      <td>Sales</td>\n",
       "      <td>23</td>\n",
       "      <td>CA</td>\n",
       "      <td>White</td>\n",
       "      <td>...</td>\n",
       "      <td>Single</td>\n",
       "      <td>157718</td>\n",
       "      <td>0</td>\n",
       "      <td>Yes</td>\n",
       "      <td>2012-01-04</td>\n",
       "      <td>No</td>\n",
       "      <td>10</td>\n",
       "      <td>6</td>\n",
       "      <td>10</td>\n",
       "      <td>0</td>\n",
       "    </tr>\n",
       "    <tr>\n",
       "      <th>2</th>\n",
       "      <td>95D7-1CE9</td>\n",
       "      <td>Ahmed</td>\n",
       "      <td>Sykes</td>\n",
       "      <td>Male</td>\n",
       "      <td>43</td>\n",
       "      <td>Some Travel</td>\n",
       "      <td>Human Resources</td>\n",
       "      <td>29</td>\n",
       "      <td>CA</td>\n",
       "      <td>Asian or Asian American</td>\n",
       "      <td>...</td>\n",
       "      <td>Married</td>\n",
       "      <td>309964</td>\n",
       "      <td>1</td>\n",
       "      <td>No</td>\n",
       "      <td>2012-01-04</td>\n",
       "      <td>No</td>\n",
       "      <td>10</td>\n",
       "      <td>6</td>\n",
       "      <td>10</td>\n",
       "      <td>8</td>\n",
       "    </tr>\n",
       "    <tr>\n",
       "      <th>3</th>\n",
       "      <td>47A0-559B</td>\n",
       "      <td>Ermentrude</td>\n",
       "      <td>Berrie</td>\n",
       "      <td>Non-Binary</td>\n",
       "      <td>39</td>\n",
       "      <td>Some Travel</td>\n",
       "      <td>Technology</td>\n",
       "      <td>12</td>\n",
       "      <td>IL</td>\n",
       "      <td>White</td>\n",
       "      <td>...</td>\n",
       "      <td>Married</td>\n",
       "      <td>293132</td>\n",
       "      <td>0</td>\n",
       "      <td>No</td>\n",
       "      <td>2012-01-05</td>\n",
       "      <td>No</td>\n",
       "      <td>10</td>\n",
       "      <td>10</td>\n",
       "      <td>10</td>\n",
       "      <td>0</td>\n",
       "    </tr>\n",
       "    <tr>\n",
       "      <th>4</th>\n",
       "      <td>42CC-040A</td>\n",
       "      <td>Stace</td>\n",
       "      <td>Savege</td>\n",
       "      <td>Female</td>\n",
       "      <td>29</td>\n",
       "      <td>Some Travel</td>\n",
       "      <td>Human Resources</td>\n",
       "      <td>29</td>\n",
       "      <td>CA</td>\n",
       "      <td>White</td>\n",
       "      <td>...</td>\n",
       "      <td>Single</td>\n",
       "      <td>49606</td>\n",
       "      <td>0</td>\n",
       "      <td>No</td>\n",
       "      <td>2012-01-05</td>\n",
       "      <td>Yes</td>\n",
       "      <td>6</td>\n",
       "      <td>1</td>\n",
       "      <td>1</td>\n",
       "      <td>6</td>\n",
       "    </tr>\n",
       "  </tbody>\n",
       "</table>\n",
       "<p>5 rows × 23 columns</p>\n",
       "</div>"
      ],
      "text/plain": [
       "  EmployeeID   FirstName LastName      Gender  Age BusinessTravel  \\\n",
       "0  3012-1A41    Leonelle    Simco      Female   30    Some Travel   \n",
       "1  CBCB-9C9D     Leonerd    Aland        Male   38    Some Travel   \n",
       "2  95D7-1CE9       Ahmed    Sykes        Male   43    Some Travel   \n",
       "3  47A0-559B  Ermentrude   Berrie  Non-Binary   39    Some Travel   \n",
       "4  42CC-040A       Stace   Savege      Female   29    Some Travel   \n",
       "\n",
       "        Department  DistanceFromHome (KM) State                Ethnicity  ...  \\\n",
       "0            Sales                     27    IL                    White  ...   \n",
       "1            Sales                     23    CA                    White  ...   \n",
       "2  Human Resources                     29    CA  Asian or Asian American  ...   \n",
       "3       Technology                     12    IL                    White  ...   \n",
       "4  Human Resources                     29    CA                    White  ...   \n",
       "\n",
       "   MaritalStatus  Salary StockOptionLevel OverTime   HireDate  Attrition  \\\n",
       "0       Divorced  102059                1       No 2012-01-03         No   \n",
       "1         Single  157718                0      Yes 2012-01-04         No   \n",
       "2        Married  309964                1       No 2012-01-04         No   \n",
       "3        Married  293132                0       No 2012-01-05         No   \n",
       "4         Single   49606                0       No 2012-01-05        Yes   \n",
       "\n",
       "  YearsAtCompany YearsInMostRecentRole YearsSinceLastPromotion  \\\n",
       "0             10                     4                       9   \n",
       "1             10                     6                      10   \n",
       "2             10                     6                      10   \n",
       "3             10                    10                      10   \n",
       "4              6                     1                       1   \n",
       "\n",
       "   YearsWithCurrManager  \n",
       "0                     7  \n",
       "1                     0  \n",
       "2                     8  \n",
       "3                     0  \n",
       "4                     6  \n",
       "\n",
       "[5 rows x 23 columns]"
      ]
     },
     "execution_count": 122,
     "metadata": {},
     "output_type": "execute_result"
    }
   ],
   "source": [
    "# Printing first 5 Rows\n",
    "employee_df.head(5)"
   ]
  },
  {
   "cell_type": "code",
   "execution_count": 123,
   "metadata": {},
   "outputs": [
    {
     "data": {
      "text/plain": [
       "(1470, 23)"
      ]
     },
     "execution_count": 123,
     "metadata": {},
     "output_type": "execute_result"
    }
   ],
   "source": [
    "# Show the number of rows and columns\n",
    "employee_df.shape\n"
   ]
  },
  {
   "cell_type": "code",
   "execution_count": 124,
   "metadata": {},
   "outputs": [
    {
     "data": {
      "text/plain": [
       "Index(['EmployeeID', 'FirstName', 'LastName', 'Gender', 'Age',\n",
       "       'BusinessTravel', 'Department', 'DistanceFromHome (KM)', 'State',\n",
       "       'Ethnicity', 'Education', 'EducationField', 'JobRole', 'MaritalStatus',\n",
       "       'Salary', 'StockOptionLevel', 'OverTime', 'HireDate', 'Attrition',\n",
       "       'YearsAtCompany', 'YearsInMostRecentRole', 'YearsSinceLastPromotion',\n",
       "       'YearsWithCurrManager'],\n",
       "      dtype='object')"
      ]
     },
     "execution_count": 124,
     "metadata": {},
     "output_type": "execute_result"
    }
   ],
   "source": [
    "# Showing the column names\n",
    "employee_df.columns"
   ]
  },
  {
   "cell_type": "code",
   "execution_count": 125,
   "metadata": {},
   "outputs": [
    {
     "name": "stdout",
     "output_type": "stream",
     "text": [
      "<class 'pandas.core.frame.DataFrame'>\n",
      "RangeIndex: 1470 entries, 0 to 1469\n",
      "Data columns (total 23 columns):\n",
      " #   Column                   Non-Null Count  Dtype         \n",
      "---  ------                   --------------  -----         \n",
      " 0   EmployeeID               1470 non-null   object        \n",
      " 1   FirstName                1470 non-null   object        \n",
      " 2   LastName                 1470 non-null   object        \n",
      " 3   Gender                   1470 non-null   object        \n",
      " 4   Age                      1470 non-null   int64         \n",
      " 5   BusinessTravel           1470 non-null   object        \n",
      " 6   Department               1470 non-null   object        \n",
      " 7   DistanceFromHome (KM)    1470 non-null   int64         \n",
      " 8   State                    1470 non-null   object        \n",
      " 9   Ethnicity                1470 non-null   object        \n",
      " 10  Education                1470 non-null   int64         \n",
      " 11  EducationField           1470 non-null   object        \n",
      " 12  JobRole                  1470 non-null   object        \n",
      " 13  MaritalStatus            1470 non-null   object        \n",
      " 14  Salary                   1470 non-null   int64         \n",
      " 15  StockOptionLevel         1470 non-null   int64         \n",
      " 16  OverTime                 1470 non-null   object        \n",
      " 17  HireDate                 1470 non-null   datetime64[ns]\n",
      " 18  Attrition                1470 non-null   object        \n",
      " 19  YearsAtCompany           1470 non-null   int64         \n",
      " 20  YearsInMostRecentRole    1470 non-null   int64         \n",
      " 21  YearsSinceLastPromotion  1470 non-null   int64         \n",
      " 22  YearsWithCurrManager     1470 non-null   int64         \n",
      "dtypes: datetime64[ns](1), int64(9), object(13)\n",
      "memory usage: 264.3+ KB\n"
     ]
    }
   ],
   "source": [
    "# Checking the data types of each column\n",
    "employee_df.info()"
   ]
  },
  {
   "cell_type": "code",
   "execution_count": 126,
   "metadata": {},
   "outputs": [
    {
     "data": {
      "text/plain": [
       "EmployeeID                 0\n",
       "FirstName                  0\n",
       "LastName                   0\n",
       "Gender                     0\n",
       "Age                        0\n",
       "BusinessTravel             0\n",
       "Department                 0\n",
       "DistanceFromHome (KM)      0\n",
       "State                      0\n",
       "Ethnicity                  0\n",
       "Education                  0\n",
       "EducationField             0\n",
       "JobRole                    0\n",
       "MaritalStatus              0\n",
       "Salary                     0\n",
       "StockOptionLevel           0\n",
       "OverTime                   0\n",
       "HireDate                   0\n",
       "Attrition                  0\n",
       "YearsAtCompany             0\n",
       "YearsInMostRecentRole      0\n",
       "YearsSinceLastPromotion    0\n",
       "YearsWithCurrManager       0\n",
       "dtype: int64"
      ]
     },
     "execution_count": 126,
     "metadata": {},
     "output_type": "execute_result"
    }
   ],
   "source": [
    "# Checking the number of null values.\n",
    "employee_df.isnull().sum()"
   ]
  },
  {
   "cell_type": "code",
   "execution_count": 127,
   "metadata": {},
   "outputs": [
    {
     "name": "stdout",
     "output_type": "stream",
     "text": [
      "0\n"
     ]
    }
   ],
   "source": [
    "# Checking the number of duplicates.\n",
    "print(employee_df.duplicated().sum())"
   ]
  },
  {
   "cell_type": "markdown",
   "metadata": {},
   "source": [
    "# 4- Data Cleaning"
   ]
  },
  {
   "cell_type": "markdown",
   "metadata": {},
   "source": [
    "## 4.1- Employee"
   ]
  },
  {
   "cell_type": "markdown",
   "metadata": {},
   "source": [
    "#### 4.1.1- Gender Column"
   ]
  },
  {
   "cell_type": "code",
   "execution_count": 18,
   "metadata": {},
   "outputs": [
    {
     "name": "stdout",
     "output_type": "stream",
     "text": [
      "['Female' 'Male' 'Non-Binary' 'Prefer Not To Say']\n"
     ]
    }
   ],
   "source": [
    "# Print unique genders\n",
    "print(employee_df[\"Gender\"].unique())\n"
   ]
  },
  {
   "cell_type": "markdown",
   "metadata": {},
   "source": [
    "#### 4.1.2- Business Travel Column"
   ]
  },
  {
   "cell_type": "code",
   "execution_count": 129,
   "metadata": {},
   "outputs": [
    {
     "name": "stdout",
     "output_type": "stream",
     "text": [
      "['Some Travel' 'No Travel ' 'Frequent Traveller']\n"
     ]
    }
   ],
   "source": [
    "# Print unique business travel\n",
    "print(employee_df[\"BusinessTravel\"].unique())\n"
   ]
  },
  {
   "cell_type": "code",
   "execution_count": 130,
   "metadata": {},
   "outputs": [],
   "source": [
    "# Removing trailing spaces\n",
    "employee_df[\"BusinessTravel\"] = employee_df[\"BusinessTravel\"].str.strip()"
   ]
  },
  {
   "cell_type": "markdown",
   "metadata": {},
   "source": [
    "#### 4.1.3- Department Column"
   ]
  },
  {
   "cell_type": "code",
   "execution_count": 131,
   "metadata": {},
   "outputs": [
    {
     "name": "stdout",
     "output_type": "stream",
     "text": [
      "['Sales' 'Human Resources' 'Technology']\n"
     ]
    }
   ],
   "source": [
    "# Print unique departments\n",
    "print(employee_df[\"Department\"].unique())\n"
   ]
  },
  {
   "cell_type": "markdown",
   "metadata": {},
   "source": [
    "#### 4.1.4- State Column"
   ]
  },
  {
   "cell_type": "code",
   "execution_count": 132,
   "metadata": {},
   "outputs": [
    {
     "name": "stdout",
     "output_type": "stream",
     "text": [
      "['IL' 'CA' 'NY']\n"
     ]
    }
   ],
   "source": [
    "# Print unique state\n",
    "print(employee_df[\"State\"].unique())\n"
   ]
  },
  {
   "cell_type": "markdown",
   "metadata": {},
   "source": [
    "#### 4.1.5- Ethnicity Column"
   ]
  },
  {
   "cell_type": "code",
   "execution_count": 133,
   "metadata": {},
   "outputs": [
    {
     "name": "stdout",
     "output_type": "stream",
     "text": [
      "['White' 'Asian or Asian American' 'Mixed or multiple ethnic groups'\n",
      " 'Black or African American' 'Native Hawaiian ' 'Other '\n",
      " 'American Indian or Alaska Native']\n"
     ]
    }
   ],
   "source": [
    "# Print unique ethnicity\n",
    "print(employee_df[\"Ethnicity\"].unique())\n"
   ]
  },
  {
   "cell_type": "code",
   "execution_count": 134,
   "metadata": {},
   "outputs": [
    {
     "name": "stdout",
     "output_type": "stream",
     "text": [
      "['White' 'Asian American' 'Mixed' 'Black American' 'Native Hawaiian'\n",
      " 'Other' 'Indian American']\n"
     ]
    }
   ],
   "source": [
    "# Removing trailing spaces\n",
    "employee_df[\"Ethnicity\"] = employee_df[\"Ethnicity\"].str.strip()\n",
    "\n",
    "# Replace \"Asian or Asian American\" with \"Asian American\" \n",
    "employee_df[\"Ethnicity\"] = employee_df[\"Ethnicity\"].replace(\"Asian or Asian American\", \"Asian American\")\n",
    "\n",
    "# Simplify \"Mixed or multiple ethnic groups\" to \"Mixed\" \n",
    "employee_df[\"Ethnicity\"] = employee_df[\"Ethnicity\"].replace(\"Mixed or multiple ethnic groups\", \"Mixed\")\n",
    "\n",
    "# Shorten \"Black or African American\" to \"Black American\" \n",
    "employee_df[\"Ethnicity\"] = employee_df[\"Ethnicity\"].replace(\"Black or African American\", \"Black American\")\n",
    "\n",
    "# Change \"American Indian or Alaska Native\" to \"Indian American\"\n",
    "employee_df[\"Ethnicity\"] = employee_df[\"Ethnicity\"].replace(\"American Indian or Alaska Native\", \"Indian American\")\n",
    "\n",
    "print(employee_df[\"Ethnicity\"].unique())\n"
   ]
  },
  {
   "cell_type": "markdown",
   "metadata": {},
   "source": [
    "#### 4.1.6- Education Column"
   ]
  },
  {
   "cell_type": "code",
   "execution_count": 135,
   "metadata": {},
   "outputs": [
    {
     "name": "stdout",
     "output_type": "stream",
     "text": [
      "[5 4 3 2 1]\n"
     ]
    }
   ],
   "source": [
    "print(employee_df[\"Education\"].unique())\n"
   ]
  },
  {
   "cell_type": "code",
   "execution_count": 136,
   "metadata": {},
   "outputs": [
    {
     "name": "stdout",
     "output_type": "stream",
     "text": [
      "['Doctorate' 'Masters' 'Bachelors' 'High School'\n",
      " 'No Formal Qualifications']\n"
     ]
    }
   ],
   "source": [
    "# Mapping education number with level values\n",
    "employee_df[\"Education\"] = employee_df[\"Education\"].replace(1, \"No Formal Qualifications\")\n",
    "employee_df[\"Education\"] = employee_df[\"Education\"].replace(2, \"High School\")\n",
    "employee_df[\"Education\"] = employee_df[\"Education\"].replace(3, \"Bachelors\")\n",
    "employee_df[\"Education\"] = employee_df[\"Education\"].replace(4, \"Masters\")\n",
    "employee_df[\"Education\"] = employee_df[\"Education\"].replace(5, \"Doctorate\")\n",
    "\n",
    "\n",
    "print(employee_df[\"Education\"].unique())\n"
   ]
  },
  {
   "cell_type": "markdown",
   "metadata": {},
   "source": [
    "#### 4.1.7- Education Field Column"
   ]
  },
  {
   "cell_type": "code",
   "execution_count": 137,
   "metadata": {},
   "outputs": [
    {
     "name": "stdout",
     "output_type": "stream",
     "text": [
      "['Marketing' 'Marketing ' 'Computer Science' 'Technical Degree'\n",
      " 'Information Systems' 'Other' 'Economics' 'Human Resources'\n",
      " 'Business Studies']\n"
     ]
    }
   ],
   "source": [
    "# Print unique education fields\n",
    "print(employee_df[\"EducationField\"].unique())\n"
   ]
  },
  {
   "cell_type": "code",
   "execution_count": 138,
   "metadata": {},
   "outputs": [
    {
     "name": "stdout",
     "output_type": "stream",
     "text": [
      "['Marketing' 'Computer Science' 'Other' 'Economics' 'Human Resources'\n",
      " 'Business Studies']\n"
     ]
    }
   ],
   "source": [
    "# Removing trailing spaces\n",
    "employee_df[\"EducationField\"] = employee_df[\"EducationField\"].str.strip()\n",
    "\n",
    "# Replacing both informatio systems and technical degree with computer science \n",
    "employee_df[\"EducationField\"] = employee_df[\"EducationField\"].replace(\"Information Systems\", \"Computer Science\")\n",
    "employee_df[\"EducationField\"] = employee_df[\"EducationField\"].replace(\"Technical Degree\", \"Computer Science\")\n",
    "\n",
    "\n",
    "print(employee_df[\"EducationField\"].unique())\n"
   ]
  },
  {
   "cell_type": "markdown",
   "metadata": {},
   "source": [
    "#### 4.1.8- Marital Status Column"
   ]
  },
  {
   "cell_type": "code",
   "execution_count": 139,
   "metadata": {},
   "outputs": [
    {
     "name": "stdout",
     "output_type": "stream",
     "text": [
      "['Divorced' 'Single' 'Married']\n"
     ]
    }
   ],
   "source": [
    "# Print unique marital status\n",
    "print(employee_df[\"MaritalStatus\"].unique())\n"
   ]
  },
  {
   "cell_type": "markdown",
   "metadata": {},
   "source": [
    "#### 4.1.9- Over Time Column"
   ]
  },
  {
   "cell_type": "code",
   "execution_count": 140,
   "metadata": {},
   "outputs": [
    {
     "name": "stdout",
     "output_type": "stream",
     "text": [
      "['No' 'Yes']\n"
     ]
    }
   ],
   "source": [
    "# Print unique over-time\n",
    "print(employee_df[\"OverTime\"].unique())\n"
   ]
  },
  {
   "cell_type": "markdown",
   "metadata": {},
   "source": [
    "#### 4.1.10- Age Column"
   ]
  },
  {
   "cell_type": "code",
   "execution_count": 141,
   "metadata": {},
   "outputs": [
    {
     "name": "stdout",
     "output_type": "stream",
     "text": [
      "[18, 19, 20, 21, 22, 23, 24, 25, 26, 27, 28, 29, 30, 31, 32, 33, 34, 35, 36, 37, 38, 39, 40, 41, 42, 43, 44, 45, 46, 47, 48, 49, 50, 51]\n"
     ]
    }
   ],
   "source": [
    "# Print sorted unique ages\n",
    "print(sorted(employee_df[\"Age\"].unique().tolist()))"
   ]
  },
  {
   "cell_type": "code",
   "execution_count": 142,
   "metadata": {},
   "outputs": [],
   "source": [
    "# Define bins for grouping\n",
    "bins = [0, 25, 35, 45, 100]  \n",
    "labels = ['18-24', '25-34', '35-44', '45+']  \n",
    "\n",
    "# Create the AgeGroup column\n",
    "employee_df[\"AgeGroup\"] = pd.cut(employee_df['Age'], bins=bins, labels=labels, right=False)\n",
    "\n",
    "# Insert AgeGroup column right after Age column\n",
    "employee_df.insert(5, \"AgeGroup\", employee_df.pop(\"AgeGroup\"))"
   ]
  },
  {
   "cell_type": "markdown",
   "metadata": {},
   "source": [
    "#### 4.1.11- Name Column"
   ]
  },
  {
   "cell_type": "code",
   "execution_count": 143,
   "metadata": {},
   "outputs": [],
   "source": [
    "# Concatenating both splitted names into a single full name \n",
    "employee_df[\"EmployeeName\"] =  employee_df['FirstName'] + ' ' + employee_df['LastName']\n",
    "\n",
    "# Insert EmployeeName after EmployeeID\n",
    "employee_df.insert(1, \"EmployeeName\", employee_df.pop(\"EmployeeName\"))\n",
    "\n",
    "# Drop the splited names\n",
    "employee_df = employee_df.drop(columns=['FirstName', 'LastName'])\n"
   ]
  },
  {
   "cell_type": "code",
   "execution_count": 145,
   "metadata": {},
   "outputs": [
    {
     "data": {
      "text/html": [
       "<div>\n",
       "<style scoped>\n",
       "    .dataframe tbody tr th:only-of-type {\n",
       "        vertical-align: middle;\n",
       "    }\n",
       "\n",
       "    .dataframe tbody tr th {\n",
       "        vertical-align: top;\n",
       "    }\n",
       "\n",
       "    .dataframe thead th {\n",
       "        text-align: right;\n",
       "    }\n",
       "</style>\n",
       "<table border=\"1\" class=\"dataframe\">\n",
       "  <thead>\n",
       "    <tr style=\"text-align: right;\">\n",
       "      <th></th>\n",
       "      <th>EmployeeID</th>\n",
       "      <th>EmployeeName</th>\n",
       "      <th>Gender</th>\n",
       "      <th>Age</th>\n",
       "      <th>AgeGroup</th>\n",
       "      <th>BusinessTravel</th>\n",
       "      <th>Department</th>\n",
       "      <th>DistanceFromHome (KM)</th>\n",
       "      <th>State</th>\n",
       "      <th>Ethnicity</th>\n",
       "      <th>...</th>\n",
       "      <th>MaritalStatus</th>\n",
       "      <th>Salary</th>\n",
       "      <th>StockOptionLevel</th>\n",
       "      <th>OverTime</th>\n",
       "      <th>HireDate</th>\n",
       "      <th>Attrition</th>\n",
       "      <th>YearsAtCompany</th>\n",
       "      <th>YearsInMostRecentRole</th>\n",
       "      <th>YearsSinceLastPromotion</th>\n",
       "      <th>YearsWithCurrManager</th>\n",
       "    </tr>\n",
       "  </thead>\n",
       "  <tbody>\n",
       "    <tr>\n",
       "      <th>0</th>\n",
       "      <td>3012-1A41</td>\n",
       "      <td>Leonelle Simco</td>\n",
       "      <td>Female</td>\n",
       "      <td>30</td>\n",
       "      <td>25-34</td>\n",
       "      <td>Some Travel</td>\n",
       "      <td>Sales</td>\n",
       "      <td>27</td>\n",
       "      <td>IL</td>\n",
       "      <td>White</td>\n",
       "      <td>...</td>\n",
       "      <td>Divorced</td>\n",
       "      <td>102059</td>\n",
       "      <td>1</td>\n",
       "      <td>No</td>\n",
       "      <td>2012-01-03</td>\n",
       "      <td>No</td>\n",
       "      <td>10</td>\n",
       "      <td>4</td>\n",
       "      <td>9</td>\n",
       "      <td>7</td>\n",
       "    </tr>\n",
       "    <tr>\n",
       "      <th>1</th>\n",
       "      <td>CBCB-9C9D</td>\n",
       "      <td>Leonerd Aland</td>\n",
       "      <td>Male</td>\n",
       "      <td>38</td>\n",
       "      <td>35-44</td>\n",
       "      <td>Some Travel</td>\n",
       "      <td>Sales</td>\n",
       "      <td>23</td>\n",
       "      <td>CA</td>\n",
       "      <td>White</td>\n",
       "      <td>...</td>\n",
       "      <td>Single</td>\n",
       "      <td>157718</td>\n",
       "      <td>0</td>\n",
       "      <td>Yes</td>\n",
       "      <td>2012-01-04</td>\n",
       "      <td>No</td>\n",
       "      <td>10</td>\n",
       "      <td>6</td>\n",
       "      <td>10</td>\n",
       "      <td>0</td>\n",
       "    </tr>\n",
       "    <tr>\n",
       "      <th>2</th>\n",
       "      <td>95D7-1CE9</td>\n",
       "      <td>Ahmed Sykes</td>\n",
       "      <td>Male</td>\n",
       "      <td>43</td>\n",
       "      <td>35-44</td>\n",
       "      <td>Some Travel</td>\n",
       "      <td>Human Resources</td>\n",
       "      <td>29</td>\n",
       "      <td>CA</td>\n",
       "      <td>Asian American</td>\n",
       "      <td>...</td>\n",
       "      <td>Married</td>\n",
       "      <td>309964</td>\n",
       "      <td>1</td>\n",
       "      <td>No</td>\n",
       "      <td>2012-01-04</td>\n",
       "      <td>No</td>\n",
       "      <td>10</td>\n",
       "      <td>6</td>\n",
       "      <td>10</td>\n",
       "      <td>8</td>\n",
       "    </tr>\n",
       "    <tr>\n",
       "      <th>3</th>\n",
       "      <td>47A0-559B</td>\n",
       "      <td>Ermentrude Berrie</td>\n",
       "      <td>Non-Binary</td>\n",
       "      <td>39</td>\n",
       "      <td>35-44</td>\n",
       "      <td>Some Travel</td>\n",
       "      <td>Technology</td>\n",
       "      <td>12</td>\n",
       "      <td>IL</td>\n",
       "      <td>White</td>\n",
       "      <td>...</td>\n",
       "      <td>Married</td>\n",
       "      <td>293132</td>\n",
       "      <td>0</td>\n",
       "      <td>No</td>\n",
       "      <td>2012-01-05</td>\n",
       "      <td>No</td>\n",
       "      <td>10</td>\n",
       "      <td>10</td>\n",
       "      <td>10</td>\n",
       "      <td>0</td>\n",
       "    </tr>\n",
       "    <tr>\n",
       "      <th>4</th>\n",
       "      <td>42CC-040A</td>\n",
       "      <td>Stace Savege</td>\n",
       "      <td>Female</td>\n",
       "      <td>29</td>\n",
       "      <td>25-34</td>\n",
       "      <td>Some Travel</td>\n",
       "      <td>Human Resources</td>\n",
       "      <td>29</td>\n",
       "      <td>CA</td>\n",
       "      <td>White</td>\n",
       "      <td>...</td>\n",
       "      <td>Single</td>\n",
       "      <td>49606</td>\n",
       "      <td>0</td>\n",
       "      <td>No</td>\n",
       "      <td>2012-01-05</td>\n",
       "      <td>Yes</td>\n",
       "      <td>6</td>\n",
       "      <td>1</td>\n",
       "      <td>1</td>\n",
       "      <td>6</td>\n",
       "    </tr>\n",
       "  </tbody>\n",
       "</table>\n",
       "<p>5 rows × 23 columns</p>\n",
       "</div>"
      ],
      "text/plain": [
       "  EmployeeID       EmployeeName      Gender  Age AgeGroup BusinessTravel  \\\n",
       "0  3012-1A41     Leonelle Simco      Female   30    25-34    Some Travel   \n",
       "1  CBCB-9C9D      Leonerd Aland        Male   38    35-44    Some Travel   \n",
       "2  95D7-1CE9        Ahmed Sykes        Male   43    35-44    Some Travel   \n",
       "3  47A0-559B  Ermentrude Berrie  Non-Binary   39    35-44    Some Travel   \n",
       "4  42CC-040A       Stace Savege      Female   29    25-34    Some Travel   \n",
       "\n",
       "        Department  DistanceFromHome (KM) State       Ethnicity  ...  \\\n",
       "0            Sales                     27    IL           White  ...   \n",
       "1            Sales                     23    CA           White  ...   \n",
       "2  Human Resources                     29    CA  Asian American  ...   \n",
       "3       Technology                     12    IL           White  ...   \n",
       "4  Human Resources                     29    CA           White  ...   \n",
       "\n",
       "  MaritalStatus  Salary StockOptionLevel OverTime   HireDate  Attrition  \\\n",
       "0      Divorced  102059                1       No 2012-01-03         No   \n",
       "1        Single  157718                0      Yes 2012-01-04         No   \n",
       "2       Married  309964                1       No 2012-01-04         No   \n",
       "3       Married  293132                0       No 2012-01-05         No   \n",
       "4        Single   49606                0       No 2012-01-05        Yes   \n",
       "\n",
       "  YearsAtCompany YearsInMostRecentRole YearsSinceLastPromotion  \\\n",
       "0             10                     4                       9   \n",
       "1             10                     6                      10   \n",
       "2             10                     6                      10   \n",
       "3             10                    10                      10   \n",
       "4              6                     1                       1   \n",
       "\n",
       "   YearsWithCurrManager  \n",
       "0                     7  \n",
       "1                     0  \n",
       "2                     8  \n",
       "3                     0  \n",
       "4                     6  \n",
       "\n",
       "[5 rows x 23 columns]"
      ]
     },
     "execution_count": 145,
     "metadata": {},
     "output_type": "execute_result"
    }
   ],
   "source": [
    "employee_df.head(5)"
   ]
  },
  {
   "cell_type": "markdown",
   "metadata": {},
   "source": [
    "#### 3.2- Performance\n"
   ]
  },
  {
   "cell_type": "code",
   "execution_count": 12,
   "metadata": {},
   "outputs": [
    {
     "data": {
      "text/html": [
       "<div>\n",
       "<style scoped>\n",
       "    .dataframe tbody tr th:only-of-type {\n",
       "        vertical-align: middle;\n",
       "    }\n",
       "\n",
       "    .dataframe tbody tr th {\n",
       "        vertical-align: top;\n",
       "    }\n",
       "\n",
       "    .dataframe thead th {\n",
       "        text-align: right;\n",
       "    }\n",
       "</style>\n",
       "<table border=\"1\" class=\"dataframe\">\n",
       "  <thead>\n",
       "    <tr style=\"text-align: right;\">\n",
       "      <th></th>\n",
       "      <th>PerformanceID</th>\n",
       "      <th>EmployeeID</th>\n",
       "      <th>ReviewDate</th>\n",
       "      <th>EnvironmentSatisfaction</th>\n",
       "      <th>JobSatisfaction</th>\n",
       "      <th>RelationshipSatisfaction</th>\n",
       "      <th>TrainingOpportunitiesWithinYear</th>\n",
       "      <th>TrainingOpportunitiesTaken</th>\n",
       "      <th>WorkLifeBalance</th>\n",
       "      <th>SelfRating</th>\n",
       "      <th>ManagerRating</th>\n",
       "    </tr>\n",
       "  </thead>\n",
       "  <tbody>\n",
       "    <tr>\n",
       "      <th>0</th>\n",
       "      <td>PR01</td>\n",
       "      <td>79F7-78EC</td>\n",
       "      <td>2013-02-01 00:00:00</td>\n",
       "      <td>5</td>\n",
       "      <td>4</td>\n",
       "      <td>5</td>\n",
       "      <td>1</td>\n",
       "      <td>0</td>\n",
       "      <td>4</td>\n",
       "      <td>4</td>\n",
       "      <td>4</td>\n",
       "    </tr>\n",
       "    <tr>\n",
       "      <th>1</th>\n",
       "      <td>PR02</td>\n",
       "      <td>B61E-0F26</td>\n",
       "      <td>2013-03-01 00:00:00</td>\n",
       "      <td>5</td>\n",
       "      <td>4</td>\n",
       "      <td>4</td>\n",
       "      <td>1</td>\n",
       "      <td>3</td>\n",
       "      <td>4</td>\n",
       "      <td>4</td>\n",
       "      <td>3</td>\n",
       "    </tr>\n",
       "    <tr>\n",
       "      <th>2</th>\n",
       "      <td>PR03</td>\n",
       "      <td>F5E3-48BB</td>\n",
       "      <td>2013-03-01 00:00:00</td>\n",
       "      <td>3</td>\n",
       "      <td>4</td>\n",
       "      <td>5</td>\n",
       "      <td>3</td>\n",
       "      <td>2</td>\n",
       "      <td>3</td>\n",
       "      <td>5</td>\n",
       "      <td>4</td>\n",
       "    </tr>\n",
       "    <tr>\n",
       "      <th>3</th>\n",
       "      <td>PR04</td>\n",
       "      <td>0678-748A</td>\n",
       "      <td>2013-04-01 00:00:00</td>\n",
       "      <td>5</td>\n",
       "      <td>3</td>\n",
       "      <td>2</td>\n",
       "      <td>2</td>\n",
       "      <td>0</td>\n",
       "      <td>2</td>\n",
       "      <td>3</td>\n",
       "      <td>2</td>\n",
       "    </tr>\n",
       "    <tr>\n",
       "      <th>4</th>\n",
       "      <td>PR05</td>\n",
       "      <td>541F-3E19</td>\n",
       "      <td>2013-04-01 00:00:00</td>\n",
       "      <td>5</td>\n",
       "      <td>2</td>\n",
       "      <td>3</td>\n",
       "      <td>1</td>\n",
       "      <td>0</td>\n",
       "      <td>4</td>\n",
       "      <td>4</td>\n",
       "      <td>3</td>\n",
       "    </tr>\n",
       "  </tbody>\n",
       "</table>\n",
       "</div>"
      ],
      "text/plain": [
       "  PerformanceID EmployeeID           ReviewDate  EnvironmentSatisfaction  \\\n",
       "0          PR01  79F7-78EC  2013-02-01 00:00:00                        5   \n",
       "1          PR02  B61E-0F26  2013-03-01 00:00:00                        5   \n",
       "2          PR03  F5E3-48BB  2013-03-01 00:00:00                        3   \n",
       "3          PR04  0678-748A  2013-04-01 00:00:00                        5   \n",
       "4          PR05  541F-3E19  2013-04-01 00:00:00                        5   \n",
       "\n",
       "   JobSatisfaction  RelationshipSatisfaction  TrainingOpportunitiesWithinYear  \\\n",
       "0                4                         5                                1   \n",
       "1                4                         4                                1   \n",
       "2                4                         5                                3   \n",
       "3                3                         2                                2   \n",
       "4                2                         3                                1   \n",
       "\n",
       "   TrainingOpportunitiesTaken  WorkLifeBalance  SelfRating  ManagerRating  \n",
       "0                           0                4           4              4  \n",
       "1                           3                4           4              3  \n",
       "2                           2                3           5              4  \n",
       "3                           0                2           3              2  \n",
       "4                           0                4           4              3  "
      ]
     },
     "execution_count": 12,
     "metadata": {},
     "output_type": "execute_result"
    }
   ],
   "source": [
    "# Printing first 5 Rows\n",
    "performance_df.head(5)"
   ]
  },
  {
   "cell_type": "code",
   "execution_count": 13,
   "metadata": {},
   "outputs": [
    {
     "name": "stdout",
     "output_type": "stream",
     "text": [
      "0\n"
     ]
    }
   ],
   "source": [
    "# Checking the number of duplicates.\n",
    "print(performance_df.duplicated().sum())"
   ]
  },
  {
   "cell_type": "code",
   "execution_count": 14,
   "metadata": {},
   "outputs": [
    {
     "data": {
      "text/plain": [
       "Index(['PerformanceID', 'EmployeeID', 'ReviewDate', 'EnvironmentSatisfaction',\n",
       "       'JobSatisfaction', 'RelationshipSatisfaction',\n",
       "       'TrainingOpportunitiesWithinYear', 'TrainingOpportunitiesTaken',\n",
       "       'WorkLifeBalance', 'SelfRating', 'ManagerRating'],\n",
       "      dtype='object')"
      ]
     },
     "execution_count": 14,
     "metadata": {},
     "output_type": "execute_result"
    }
   ],
   "source": [
    "# Showing the column names\n",
    "performance_df.columns\n"
   ]
  },
  {
   "cell_type": "code",
   "execution_count": 15,
   "metadata": {},
   "outputs": [
    {
     "name": "stdout",
     "output_type": "stream",
     "text": [
      "<class 'pandas.core.frame.DataFrame'>\n",
      "RangeIndex: 6709 entries, 0 to 6708\n",
      "Data columns (total 11 columns):\n",
      " #   Column                           Non-Null Count  Dtype \n",
      "---  ------                           --------------  ----- \n",
      " 0   PerformanceID                    6709 non-null   object\n",
      " 1   EmployeeID                       6709 non-null   object\n",
      " 2   ReviewDate                       6709 non-null   object\n",
      " 3   EnvironmentSatisfaction          6709 non-null   int64 \n",
      " 4   JobSatisfaction                  6709 non-null   int64 \n",
      " 5   RelationshipSatisfaction         6709 non-null   int64 \n",
      " 6   TrainingOpportunitiesWithinYear  6709 non-null   int64 \n",
      " 7   TrainingOpportunitiesTaken       6709 non-null   int64 \n",
      " 8   WorkLifeBalance                  6709 non-null   int64 \n",
      " 9   SelfRating                       6709 non-null   int64 \n",
      " 10  ManagerRating                    6709 non-null   int64 \n",
      "dtypes: int64(8), object(3)\n",
      "memory usage: 576.7+ KB\n"
     ]
    }
   ],
   "source": [
    "# Checking the data types of each column\n",
    "performance_df.info()\n"
   ]
  },
  {
   "cell_type": "code",
   "execution_count": 16,
   "metadata": {},
   "outputs": [
    {
     "data": {
      "text/plain": [
       "PerformanceID                      0\n",
       "EmployeeID                         0\n",
       "ReviewDate                         0\n",
       "EnvironmentSatisfaction            0\n",
       "JobSatisfaction                    0\n",
       "RelationshipSatisfaction           0\n",
       "TrainingOpportunitiesWithinYear    0\n",
       "TrainingOpportunitiesTaken         0\n",
       "WorkLifeBalance                    0\n",
       "SelfRating                         0\n",
       "ManagerRating                      0\n",
       "dtype: int64"
      ]
     },
     "execution_count": 16,
     "metadata": {},
     "output_type": "execute_result"
    }
   ],
   "source": [
    "# Checking the number of null values.\n",
    "performance_df.isnull().sum()"
   ]
  },
  {
   "cell_type": "code",
   "execution_count": 17,
   "metadata": {},
   "outputs": [
    {
     "name": "stdout",
     "output_type": "stream",
     "text": [
      "0\n"
     ]
    }
   ],
   "source": [
    "# Checking the number of duplicates.\n",
    "print(performance_df.duplicated().sum())"
   ]
  },
  {
   "cell_type": "markdown",
   "metadata": {},
   "source": [
    "# 4.2- Data Cleaning"
   ]
  },
  {
   "cell_type": "markdown",
   "metadata": {},
   "source": [
    "## 4.2.1- PerformanceID\n"
   ]
  },
  {
   "cell_type": "code",
   "execution_count": 19,
   "metadata": {},
   "outputs": [
    {
     "name": "stdout",
     "output_type": "stream",
     "text": [
      "['79F7-78EC' 'B61E-0F26' 'F5E3-48BB' ... 'AAD7-8DDC' 'A2AE-FD61'\n",
      " 'D6BA-10A1']\n"
     ]
    }
   ],
   "source": [
    "# Print unique PerformanceID\n",
    "print(performance_df[\"EmployeeID\"].unique())\n",
    "\n"
   ]
  },
  {
   "cell_type": "markdown",
   "metadata": {},
   "source": [
    "## 4.2.2- EmployeeID\n",
    "\n"
   ]
  },
  {
   "cell_type": "code",
   "execution_count": 20,
   "metadata": {},
   "outputs": [
    {
     "name": "stdout",
     "output_type": "stream",
     "text": [
      "['79F7-78EC' 'B61E-0F26' 'F5E3-48BB' ... 'AAD7-8DDC' 'A2AE-FD61'\n",
      " 'D6BA-10A1']\n"
     ]
    }
   ],
   "source": [
    "# Print unique EmployeeID\n",
    "print(performance_df[\"EmployeeID\"].unique())\n",
    "\n"
   ]
  },
  {
   "cell_type": "markdown",
   "metadata": {},
   "source": [
    "#### 4.2.3- ReviewDate\n"
   ]
  },
  {
   "cell_type": "code",
   "execution_count": 22,
   "metadata": {},
   "outputs": [
    {
     "name": "stdout",
     "output_type": "stream",
     "text": [
      "[datetime.datetime(2013, 2, 1, 0, 0) datetime.datetime(2013, 3, 1, 0, 0)\n",
      " datetime.datetime(2013, 4, 1, 0, 0) ... '3/13/2016' '3/14/2016'\n",
      " '3/15/2016']\n"
     ]
    }
   ],
   "source": [
    "# Print unique ReviewDate\n",
    "print(performance_df[\"ReviewDate\"].unique())\n",
    "\n"
   ]
  },
  {
   "cell_type": "code",
   "execution_count": 33,
   "metadata": {},
   "outputs": [],
   "source": [
    "performance_df['ReviewDate'] = pd.to_datetime(performance_df['ReviewDate'], errors='coerce')\n"
   ]
  },
  {
   "cell_type": "markdown",
   "metadata": {},
   "source": [
    "#### 4.2.4- EnvironmentSatisfaction\n"
   ]
  },
  {
   "cell_type": "code",
   "execution_count": 24,
   "metadata": {},
   "outputs": [
    {
     "name": "stdout",
     "output_type": "stream",
     "text": [
      "[5 3 4 1 2]\n"
     ]
    }
   ],
   "source": [
    "# Print unique EnvironmentSatisfaction\n",
    "print(performance_df[\"EnvironmentSatisfaction\"].unique())"
   ]
  },
  {
   "cell_type": "markdown",
   "metadata": {},
   "source": [
    "#### 4.2.5- JobSatisfaction"
   ]
  },
  {
   "cell_type": "code",
   "execution_count": 25,
   "metadata": {},
   "outputs": [
    {
     "name": "stdout",
     "output_type": "stream",
     "text": [
      "[4 3 2 5 1]\n"
     ]
    }
   ],
   "source": [
    "# Print unique JobSatisfaction\n",
    "print(performance_df[\"JobSatisfaction\"].unique())\n"
   ]
  },
  {
   "cell_type": "markdown",
   "metadata": {},
   "source": [
    "#### 4.2.6- RelationshipSatisfaction"
   ]
  },
  {
   "cell_type": "code",
   "execution_count": 26,
   "metadata": {},
   "outputs": [
    {
     "name": "stdout",
     "output_type": "stream",
     "text": [
      "[5 4 2 3 1]\n"
     ]
    }
   ],
   "source": [
    "# Print unique RelationshipSatisfaction\n",
    "print(performance_df[\"RelationshipSatisfaction\"].unique())"
   ]
  },
  {
   "cell_type": "code",
   "execution_count": 34,
   "metadata": {},
   "outputs": [],
   "source": [
    "columns_to_check = [\n",
    "    'EnvironmentSatisfaction', \n",
    "    'JobSatisfaction', \n",
    "    'RelationshipSatisfaction', \n",
    "    'WorkLifeBalance', \n",
    "    'SelfRating', \n",
    "    'ManagerRating'\n",
    "]\n",
    "\n",
    "for col in columns_to_check:\n",
    "    out_of_range = performance_df[(performance_df[col] < 1) | (performance_df[col] > 5)]\n",
    "    if not out_of_range.empty:\n",
    "        print(f\"Out-of-range values in {col}:\")\n",
    "        print(out_of_range)\n"
   ]
  },
  {
   "cell_type": "markdown",
   "metadata": {},
   "source": [
    "#### 4.2.7- TrainingOpportunitiesWithinYear"
   ]
  },
  {
   "cell_type": "code",
   "execution_count": 27,
   "metadata": {},
   "outputs": [
    {
     "name": "stdout",
     "output_type": "stream",
     "text": [
      "[1 3 2]\n"
     ]
    }
   ],
   "source": [
    "# Print unique TrainingOpportunitiesWithinYear\n",
    "print(performance_df[\"TrainingOpportunitiesWithinYear\"].unique())"
   ]
  },
  {
   "cell_type": "markdown",
   "metadata": {},
   "source": [
    "#### 4.2.8- TrainingOpportunitiesTaken"
   ]
  },
  {
   "cell_type": "code",
   "execution_count": 28,
   "metadata": {},
   "outputs": [
    {
     "name": "stdout",
     "output_type": "stream",
     "text": [
      "[0 3 2 1]\n"
     ]
    }
   ],
   "source": [
    "# Print unique TrainingOpportunitiesTaken\n",
    "print(performance_df[\"TrainingOpportunitiesTaken\"].unique())\n"
   ]
  },
  {
   "cell_type": "code",
   "execution_count": 35,
   "metadata": {},
   "outputs": [
    {
     "name": "stdout",
     "output_type": "stream",
     "text": [
      "Inconsistent training opportunities found:\n",
      "     PerformanceID EmployeeID ReviewDate  EnvironmentSatisfaction  \\\n",
      "1             PR02  B61E-0F26 2013-03-01                        5   \n",
      "9             PR10  774E-685D 2013-11-01                        5   \n",
      "15          PR1004  DEC5-9319 2016-03-18                        3   \n",
      "23          PR1011  5160-53BD 2016-03-24                        4   \n",
      "30          PR1018  C525-8BB9 2016-03-27                        3   \n",
      "...            ...        ...        ...                      ...   \n",
      "6668         PR962  17AD-99F5 2016-01-03                        3   \n",
      "6678         PR971  0322-D46B 2016-03-03                        5   \n",
      "6680         PR973  1054-9C3B 2016-05-03                        4   \n",
      "6693         PR985  40A9-8EB0 2016-09-03                        4   \n",
      "6695         PR987  B005-602F 2016-10-03                        5   \n",
      "\n",
      "      JobSatisfaction  RelationshipSatisfaction  \\\n",
      "1                   4                         4   \n",
      "9                   4                         3   \n",
      "15                  4                         3   \n",
      "23                  2                         5   \n",
      "30                  4                         4   \n",
      "...               ...                       ...   \n",
      "6668                4                         4   \n",
      "6678                5                         2   \n",
      "6680                2                         5   \n",
      "6693                4                         3   \n",
      "6695                3                         2   \n",
      "\n",
      "      TrainingOpportunitiesWithinYear  TrainingOpportunitiesTaken  \\\n",
      "1                                   1                           3   \n",
      "9                                   2                           3   \n",
      "15                                  2                           3   \n",
      "23                                  1                           2   \n",
      "30                                  1                           2   \n",
      "...                               ...                         ...   \n",
      "6668                                1                           2   \n",
      "6678                                1                           3   \n",
      "6680                                2                           3   \n",
      "6693                                1                           3   \n",
      "6695                                2                           3   \n",
      "\n",
      "      WorkLifeBalance  SelfRating  ManagerRating  \n",
      "1                   4           4              3  \n",
      "9                   4           5              4  \n",
      "15                  2           4              4  \n",
      "23                  2           5              5  \n",
      "30                  3           4              3  \n",
      "...               ...         ...            ...  \n",
      "6668                5           4              3  \n",
      "6678                2           4              3  \n",
      "6680                4           5              5  \n",
      "6693                2           3              3  \n",
      "6695                4           5              4  \n",
      "\n",
      "[823 rows x 11 columns]\n"
     ]
    }
   ],
   "source": [
    "inconsistent_rows = performance_df[performance_df['TrainingOpportunitiesTaken'] > performance_df['TrainingOpportunitiesWithinYear']]\n",
    "if not inconsistent_rows.empty:\n",
    "    print(\"Inconsistent training opportunities found:\")\n",
    "    print(inconsistent_rows)\n"
   ]
  },
  {
   "cell_type": "markdown",
   "metadata": {},
   "source": [
    "#### 4.2.9- WorkLifeBalance"
   ]
  },
  {
   "cell_type": "code",
   "execution_count": 29,
   "metadata": {},
   "outputs": [
    {
     "name": "stdout",
     "output_type": "stream",
     "text": [
      "[4 3 2 5 1]\n"
     ]
    }
   ],
   "source": [
    "# Print unique WorkLifeBalance\n",
    "print(performance_df[\"WorkLifeBalance\"].unique())"
   ]
  },
  {
   "cell_type": "markdown",
   "metadata": {},
   "source": [
    "#### 4.2.10- SelfRating"
   ]
  },
  {
   "cell_type": "code",
   "execution_count": 30,
   "metadata": {},
   "outputs": [
    {
     "name": "stdout",
     "output_type": "stream",
     "text": [
      "[4 5 3]\n"
     ]
    }
   ],
   "source": [
    "# Print SelfRating\n",
    "print(performance_df[\"SelfRating\"].unique())\n"
   ]
  },
  {
   "cell_type": "markdown",
   "metadata": {},
   "source": [
    "#### 4.2.11- ManagerRating"
   ]
  },
  {
   "cell_type": "code",
   "execution_count": 31,
   "metadata": {},
   "outputs": [
    {
     "name": "stdout",
     "output_type": "stream",
     "text": [
      "[4 3 2 5]\n"
     ]
    }
   ],
   "source": [
    "# Print ManagerRating\n",
    "print(performance_df[\"ManagerRating\"].unique())\n"
   ]
  }
 ],
 "metadata": {
  "kernelspec": {
   "display_name": "Python 3",
   "language": "python",
   "name": "python3"
  },
  "language_info": {
   "codemirror_mode": {
    "name": "ipython",
    "version": 3
   },
   "file_extension": ".py",
   "mimetype": "text/x-python",
   "name": "python",
   "nbconvert_exporter": "python",
   "pygments_lexer": "ipython3",
   "version": "3.12.4"
  }
 },
 "nbformat": 4,
 "nbformat_minor": 2
}
